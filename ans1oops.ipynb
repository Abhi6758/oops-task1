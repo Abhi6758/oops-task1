{
 "cells": [
  {
   "cell_type": "code",
   "execution_count": 1,
   "id": "df0e2135-2f93-4b77-a1ee-bb49101542f3",
   "metadata": {},
   "outputs": [
    {
     "name": "stdout",
     "output_type": "stream",
     "text": [
      "Name of vehicle: Toyota Camry\n",
      "Max speed: 180\n",
      "Average speed: 60\n"
     ]
    }
   ],
   "source": [
    "class Vehicle:\n",
    "    def __init__(self, name_of_vehicle, max_speed, average_speed):\n",
    "        self.name_of_vehicle = name_of_vehicle\n",
    "        self.max_speed = max_speed\n",
    "        self.average_speed = average_speed\n",
    "\n",
    "# Example usage:\n",
    "if __name__ == \"__main__\":\n",
    "    # Creating an instance of the Vehicle class\n",
    "    car = Vehicle(\"Toyota Camry\", 180, 60)\n",
    "\n",
    "    # Accessing the instance variables\n",
    "    print(\"Name of vehicle:\", car.name_of_vehicle)\n",
    "    print(\"Max speed:\", car.max_speed)\n",
    "    print(\"Average speed:\", car.average_speed)\n"
   ]
  },
  {
   "cell_type": "code",
   "execution_count": null,
   "id": "84b26cea-9f4d-4288-83f8-45d53ee145ad",
   "metadata": {},
   "outputs": [],
   "source": []
  }
 ],
 "metadata": {
  "kernelspec": {
   "display_name": "Python 3 (ipykernel)",
   "language": "python",
   "name": "python3"
  },
  "language_info": {
   "codemirror_mode": {
    "name": "ipython",
    "version": 3
   },
   "file_extension": ".py",
   "mimetype": "text/x-python",
   "name": "python",
   "nbconvert_exporter": "python",
   "pygments_lexer": "ipython3",
   "version": "3.10.8"
  }
 },
 "nbformat": 4,
 "nbformat_minor": 5
}
