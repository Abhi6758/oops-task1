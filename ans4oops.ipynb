{
 "cells": [
  {
   "cell_type": "code",
   "execution_count": 1,
   "id": "d62c9234-39d3-4d8b-8c17-d0c6c6bb3847",
   "metadata": {},
   "outputs": [
    {
     "name": "stdout",
     "output_type": "stream",
     "text": [
      "Value of the attribute: 10\n"
     ]
    }
   ],
   "source": [
    "class MyClass:\n",
    "    def __init__(self):\n",
    "        self._my_attribute = None  # Initialize the attribute\n",
    "\n",
    "    # Getter method to get the value of the attribute\n",
    "    def get_my_attribute(self):\n",
    "        return self._my_attribute\n",
    "\n",
    "    # Setter method to set the value of the attribute\n",
    "    def set_my_attribute(self, value):\n",
    "        self._my_attribute = value\n",
    "\n",
    "# Example usage:\n",
    "if __name__ == \"__main__\":\n",
    "    # Creating an instance of the class\n",
    "    obj = MyClass()\n",
    "\n",
    "    # Using the setter method to set the value of the attribute\n",
    "    obj.set_my_attribute(10)\n",
    "\n",
    "    # Using the getter method to retrieve the value of the attribute\n",
    "    print(\"Value of the attribute:\", obj.get_my_attribute())\n",
    "\n",
    "    # Using the setter method to modify the value of the attribute\n",
    "    obj.set_my_attribute(20)\n",
    "\n",
    "    # Using the getter method to retrieve the modified value of the attr\n"
   ]
  },
  {
   "cell_type": "code",
   "execution_count": null,
   "id": "5e96f8b0-34ec-4970-bcba-a9e94d00e9fd",
   "metadata": {},
   "outputs": [],
   "source": []
  }
 ],
 "metadata": {
  "kernelspec": {
   "display_name": "Python 3 (ipykernel)",
   "language": "python",
   "name": "python3"
  },
  "language_info": {
   "codemirror_mode": {
    "name": "ipython",
    "version": 3
   },
   "file_extension": ".py",
   "mimetype": "text/x-python",
   "name": "python",
   "nbconvert_exporter": "python",
   "pygments_lexer": "ipython3",
   "version": "3.10.8"
  }
 },
 "nbformat": 4,
 "nbformat_minor": 5
}
