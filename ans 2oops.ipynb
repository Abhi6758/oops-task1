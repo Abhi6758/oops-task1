{
 "cells": [
  {
   "cell_type": "code",
   "execution_count": 1,
   "id": "9e390797-05ee-40e9-8044-08cd4eeab4ec",
   "metadata": {},
   "outputs": [
    {
     "name": "stdout",
     "output_type": "stream",
     "text": [
      "Name of vehicle: Toyota Camry\n",
      "Max speed: 180\n",
      "Average speed: 60\n",
      "Toyota Camry has a seating capacity of 5 people.\n"
     ]
    }
   ],
   "source": [
    "class Vehicle:\n",
    "    def __init__(self, name_of_vehicle, max_speed, average_speed):\n",
    "        self.name_of_vehicle = name_of_vehicle\n",
    "        self.max_speed = max_speed\n",
    "        self.average_speed = average_speed\n",
    "\n",
    "class Car(Vehicle):\n",
    "    def seating_capacity(self, capacity):\n",
    "        return f\"{self.name_of_vehicle} has a seating capacity of {capacity} people.\"\n",
    "\n",
    "# Example usage:\n",
    "if __name__ == \"__main__\":\n",
    "    # Creating an instance of the Car class\n",
    "    my_car = Car(\"Toyota Camry\", 180, 60)\n",
    "\n",
    "    # Accessing the instance variables inherited from the Vehicle class\n",
    "    print(\"Name of vehicle:\", my_car.name_of_vehicle)\n",
    "    print(\"Max speed:\", my_car.max_speed)\n",
    "    print(\"Average speed:\", my_car.average_speed)\n",
    "\n",
    "    # Calling the seating_capacity method\n",
    "    print(my_car.seating_capacity(5))\n"
   ]
  },
  {
   "cell_type": "code",
   "execution_count": null,
   "id": "31b494bf-33ff-4147-a777-3fa8ed04febc",
   "metadata": {},
   "outputs": [],
   "source": []
  }
 ],
 "metadata": {
  "kernelspec": {
   "display_name": "Python 3 (ipykernel)",
   "language": "python",
   "name": "python3"
  },
  "language_info": {
   "codemirror_mode": {
    "name": "ipython",
    "version": 3
   },
   "file_extension": ".py",
   "mimetype": "text/x-python",
   "name": "python",
   "nbconvert_exporter": "python",
   "pygments_lexer": "ipython3",
   "version": "3.10.8"
  }
 },
 "nbformat": 4,
 "nbformat_minor": 5
}
