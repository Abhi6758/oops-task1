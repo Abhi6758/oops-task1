{
 "cells": [
  {
   "cell_type": "code",
   "execution_count": 1,
   "id": "e918b106-5eb2-4041-9e30-229ee811e280",
   "metadata": {},
   "outputs": [
    {
     "name": "stdout",
     "output_type": "stream",
     "text": [
      "Method 1 from Parent 1\n",
      "Method 2 from Parent 2\n",
      "Method 3 from Child\n"
     ]
    }
   ],
   "source": [
    "# Parent class 1\n",
    "class Parent1:\n",
    "    def method1(self):\n",
    "        print(\"Method 1 from Parent 1\")\n",
    "\n",
    "# Parent class 2\n",
    "class Parent2:\n",
    "    def method2(self):\n",
    "        print(\"Method 2 from Parent 2\")\n",
    "\n",
    "# Child class inheriting from Parent1 and Parent2\n",
    "class Child(Parent1, Parent2):\n",
    "    def method3(self):\n",
    "        print(\"Method 3 from Child\")\n",
    "\n",
    "# Creating an instance of the Child class\n",
    "child_obj = Child()\n",
    "\n",
    "# Accessing methods from Parent1\n",
    "child_obj.method1()\n",
    "\n",
    "# Accessing methods from Parent2\n",
    "child_obj.method2()\n",
    "\n",
    "# Accessing method from Child\n",
    "child_obj.method3()\n"
   ]
  },
  {
   "cell_type": "code",
   "execution_count": null,
   "id": "d6445656-592e-4d58-992b-f17296d57d5f",
   "metadata": {},
   "outputs": [],
   "source": []
  }
 ],
 "metadata": {
  "kernelspec": {
   "display_name": "Python 3 (ipykernel)",
   "language": "python",
   "name": "python3"
  },
  "language_info": {
   "codemirror_mode": {
    "name": "ipython",
    "version": 3
   },
   "file_extension": ".py",
   "mimetype": "text/x-python",
   "name": "python",
   "nbconvert_exporter": "python",
   "pygments_lexer": "ipython3",
   "version": "3.10.8"
  }
 },
 "nbformat": 4,
 "nbformat_minor": 5
}
